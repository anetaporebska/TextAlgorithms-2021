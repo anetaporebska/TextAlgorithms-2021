{
 "cells": [
  {
   "cell_type": "markdown",
   "metadata": {},
   "source": [
    "# Laboratorium 1 - Algorytmy wyszukiwania wzorców"
   ]
  },
  {
   "cell_type": "markdown",
   "metadata": {},
   "source": [
    "## Algorytm naiwny"
   ]
  },
  {
   "cell_type": "code",
   "execution_count": 1,
   "metadata": {},
   "outputs": [],
   "source": [
    "def naive(text, pattern):\n",
    "    result = []\n",
    "    for s in range(0, len(text)-len(pattern)+1):\n",
    "        if (pattern == text[s:s+len(pattern)]):\n",
    "            result.append(s)\n",
    "    return result"
   ]
  },
  {
   "cell_type": "markdown",
   "metadata": {},
   "source": [
    "## Automat skończony"
   ]
  },
  {
   "cell_type": "code",
   "execution_count": 2,
   "metadata": {},
   "outputs": [],
   "source": [
    "import re\n",
    "def finite_automation_table(pattern):\n",
    "    alphabet = set()\n",
    "    for p in pattern:\n",
    "        alphabet.add(p)\n",
    "    \n",
    "    l_p = len(pattern)\n",
    "    table = [{} for _ in range(l_p+1)]\n",
    "    for i in range(l_p+1):\n",
    "        for a in alphabet:\n",
    "            k = min(l_p + 1, i + 2)\n",
    "            while True:\n",
    "                k = k - 1\n",
    "                if(re.search(f\"{pattern[:k]}$\", pattern[:i] + a)):\n",
    "                    break\n",
    "            table[i][a] = k\n",
    "                \n",
    "    return table\n",
    "        "
   ]
  },
  {
   "cell_type": "code",
   "execution_count": 3,
   "metadata": {},
   "outputs": [],
   "source": [
    "def fa_string_matching(text, pattern):\n",
    "    delta = finite_automation_table(pattern)\n",
    "    result =[]\n",
    "    q = 0\n",
    "    for s in range(0, len(text)):\n",
    "        q = delta[q].get(text[s])\n",
    "        if not q:\n",
    "            q = 0\n",
    "        elif(q == len(delta) - 1):\n",
    "            result.append(s+1-q)   \n",
    "    return result"
   ]
  },
  {
   "cell_type": "code",
   "execution_count": 4,
   "metadata": {},
   "outputs": [],
   "source": [
    "def fa_string_matching_with_delta(text, delta):\n",
    "    result =[]\n",
    "    q = 0\n",
    "    for s in range(0, len(text)):\n",
    "        q = delta[q].get(text[s])\n",
    "        if not q:\n",
    "            q = 0\n",
    "        elif(q == len(delta) - 1):\n",
    "            result.append(s+1-q)\n",
    "            \n",
    "    return result"
   ]
  },
  {
   "cell_type": "markdown",
   "metadata": {},
   "source": [
    "## Algorytm Knutha-Morrisa-Pratta"
   ]
  },
  {
   "cell_type": "code",
   "execution_count": 5,
   "metadata": {},
   "outputs": [],
   "source": [
    "def prefix_function(pattern):\n",
    "    pi = [0]\n",
    "    k = 0\n",
    "    for q in range(1, len(pattern)):\n",
    "        while(k > 0 and pattern[k] != pattern[q]):\n",
    "            k = pi[k-1]\n",
    "        if(pattern[k] == pattern[q]):\n",
    "            k = k + 1\n",
    "        pi.append(k)\n",
    "    return pi"
   ]
  },
  {
   "cell_type": "code",
   "execution_count": 6,
   "metadata": {},
   "outputs": [],
   "source": [
    "def kmp_string_matching(text, pattern):\n",
    "    pi = prefix_function(pattern)\n",
    "    result = []\n",
    "    q = 0\n",
    "    for i in range(0, len(text)):\n",
    "        while(q > 0 and pattern[q] != text[i]):\n",
    "            q = pi[q-1]\n",
    "        if(pattern[q] == text[i]):\n",
    "            q = q + 1\n",
    "        if(q == len(pattern)):\n",
    "            result.append(i+1-q)\n",
    "            q = pi[q-1]\n",
    "            \n",
    "    return result"
   ]
  },
  {
   "cell_type": "markdown",
   "metadata": {},
   "source": [
    "## Testy"
   ]
  },
  {
   "cell_type": "code",
   "execution_count": 7,
   "metadata": {},
   "outputs": [],
   "source": [
    "import time\n",
    "def measure_time(text, pattern, func):\n",
    "    start = time.time()\n",
    "    func(text,pattern)\n",
    "    end = time.time()\n",
    "    print(end - start)"
   ]
  },
  {
   "cell_type": "markdown",
   "metadata": {},
   "source": [
    "### Wyszukiwanie wzorca \"Art\""
   ]
  },
  {
   "cell_type": "code",
   "execution_count": 8,
   "metadata": {},
   "outputs": [
    {
     "name": "stdout",
     "output_type": "stream",
     "text": [
      "Naiwny: 0.04386281967163086\n",
      "Automat: 0.023877859115600586\n",
      "KMP: 0.02981877326965332\n"
     ]
    }
   ],
   "source": [
    "f = open('1997_714.txt', 'r')\n",
    "text = f.read()\n",
    "pattern = \"Art\"\n",
    "\n",
    "print(\"Naiwny: \", end=\"\")\n",
    "measure_time(text, pattern, naive)\n",
    "\n",
    "print(\"Automat: \", end=\"\")\n",
    "measure_time(text, pattern, fa_string_matching)\n",
    "\n",
    "print(\"KMP: \", end=\"\")\n",
    "measure_time(text, pattern, kmp_string_matching)"
   ]
  },
  {
   "cell_type": "markdown",
   "metadata": {},
   "source": [
    "### Naiwny vs KMP"
   ]
  },
  {
   "cell_type": "code",
   "execution_count": 9,
   "metadata": {},
   "outputs": [
    {
     "name": "stdout",
     "output_type": "stream",
     "text": [
      "Naiwny: 0.8636431694030762\n",
      "KMP: 0.12372112274169922\n"
     ]
    }
   ],
   "source": [
    "text = \"aaaaaaaaaaaaaaaaaaaaaaaaaaaaaaaaaaaaaaaa\"*10000+\"b\"\n",
    "pattern = \"aaaaaaaaaaaaaaaaaaaaaaaaaaaaaaaaaaaaaaaaaa\"*1000 + \"b\"\n",
    "\n",
    "print(\"Naiwny: \", end=\"\")\n",
    "measure_time(text, pattern, naive)\n",
    "\n",
    "print(\"KMP: \", end=\"\")\n",
    "measure_time(text, pattern, kmp_string_matching)"
   ]
  },
  {
   "cell_type": "markdown",
   "metadata": {},
   "source": [
    "### Naiwny vs FA"
   ]
  },
  {
   "cell_type": "code",
   "execution_count": 13,
   "metadata": {},
   "outputs": [
    {
     "name": "stdout",
     "output_type": "stream",
     "text": [
      "Naiwny: 1.1399545669555664\n",
      "Automat: 0.8530125617980957\n"
     ]
    }
   ],
   "source": [
    "text = \"aaaaaaaaaaaaaaaaaaaaaaaaaaaaaaaaaaaaaaaaaaaaaaaaaaaaa\"*100000+\"b\"\n",
    "pattern = \"aaaaaaaaaaaaaaaaaaaaaaaaaaaaaaaaaaaaaaaaaaaaaaaaaaaa\"*20+\"b\"\n",
    "\n",
    "print(\"Naiwny: \", end=\"\")\n",
    "measure_time(text, pattern, naive)\n",
    "\n",
    "# żeby czas wyszukiwania był co najmniej 5x dłuższy dla naiwnego wzorzec \n",
    "# musi być jeszcze dłuższy, w tym momencie już i tak za długo \n",
    "# liczy tablicę przejścia\n",
    "\n",
    "print(\"Automat: \", end=\"\")\n",
    "t = finite_automation_table(pattern)\n",
    "start = time.time()\n",
    "fa_string_matching_with_delta(text, t)\n",
    "stop = time.time()\n",
    "print(stop-start)"
   ]
  },
  {
   "cell_type": "markdown",
   "metadata": {},
   "source": [
    "### Obliczenie tablicy przejścia automatu skończonego vs obliczenie funkcji przejścia KMP"
   ]
  },
  {
   "cell_type": "code",
   "execution_count": 11,
   "metadata": {},
   "outputs": [
    {
     "name": "stdout",
     "output_type": "stream",
     "text": [
      "Tablica przejścia:  4.8689916133880615\n",
      "Funkcja przejścia:  0.0001800060272216797\n"
     ]
    }
   ],
   "source": [
    "pattern = \"qwertyuiopasdfghjklzxcvbnm\"*20\n",
    "start = time.time()\n",
    "finite_automation_table(pattern)\n",
    "end = time.time()\n",
    "print(\"Tablica przejścia: \", end-start)\n",
    "\n",
    "start = time.time()\n",
    "prefix_function(pattern)\n",
    "end = time.time()\n",
    "print(\"Funkcja przejścia: \", end-start)"
   ]
  }
 ],
 "metadata": {
  "kernelspec": {
   "display_name": "Python 3",
   "language": "python",
   "name": "python3"
  },
  "language_info": {
   "codemirror_mode": {
    "name": "ipython",
    "version": 3
   },
   "file_extension": ".py",
   "mimetype": "text/x-python",
   "name": "python",
   "nbconvert_exporter": "python",
   "pygments_lexer": "ipython3",
   "version": "3.8.3"
  }
 },
 "nbformat": 4,
 "nbformat_minor": 4
}
