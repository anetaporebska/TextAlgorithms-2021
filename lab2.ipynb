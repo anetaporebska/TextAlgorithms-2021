{
 "cells": [
  {
   "cell_type": "markdown",
   "metadata": {},
   "source": [
    "# Algorytmy tekstowe - laboratorium 2 \n",
    "## Implementacja trie i suffix tree\n",
    "Aneta Porębska gr. wtorek 17.50A"
   ]
  },
  {
   "cell_type": "markdown",
   "metadata": {},
   "source": [
    "### Trie"
   ]
  },
  {
   "cell_type": "code",
   "execution_count": 1,
   "metadata": {},
   "outputs": [],
   "source": [
    "class TrieNode:\n",
    "    \n",
    "    def __init__(self, letter):\n",
    "        self.children = dict()\n",
    "        self.letter = letter\n",
    "\n",
    "\n",
    "class Trie:\n",
    "\n",
    "    def __init__(self, root):\n",
    "        self.root = root\n",
    "\n",
    "    def find(self, suffix, root):\n",
    "        if suffix[0] in root.children.keys():\n",
    "            return self.find(suffix[1:], root.children[suffix[0]])\n",
    "        else:\n",
    "            return (root, suffix)\n",
    "\n",
    "    def add(self, suffix, node):\n",
    "        last = node\n",
    "        curr = None\n",
    "\n",
    "        for l in suffix:\n",
    "            curr = TrieNode(l)\n",
    "            last.children[l] = curr\n",
    "            last = curr\n",
    "        return True\n",
    "\n",
    "\n",
    "def compute_initial_trie(text):\n",
    "    root = TrieNode(None)\n",
    "    last = root\n",
    "    curr = None\n",
    "    for i in range(len(text)):\n",
    "        curr = TrieNode(text[i])\n",
    "        last.children[text[i]] = curr\n",
    "        last = curr\n",
    "    return root\n",
    "\n",
    "\n",
    "def build_trie(text):\n",
    "    root = compute_initial_trie(text)\n",
    "    trie = Trie(root)\n",
    "    suffix = text[1:]\n",
    "    while suffix:\n",
    "        node, suf = trie.find(suffix, trie.root)\n",
    "        trie.add(suf, node)\n",
    "        suffix = suffix[1:]\n",
    "    return trie\n",
    "\n",
    "\n",
    "def traverse_trie(root, depth):\n",
    "    print(root.letter, depth, root.children.keys())\n",
    "    if root.children:\n",
    "        for key in root.children.keys():\n",
    "            traverse_trie(root.children[key], depth+1)\n",
    "\n",
    "\n",
    "def find_pattern_trie_(pattern, root):\n",
    "    if pattern == \"\":\n",
    "        return True\n",
    "\n",
    "    if not root.children:\n",
    "        return False\n",
    "\n",
    "    if pattern[0] in root.children.keys():\n",
    "        return find_pattern_trie_(pattern[1:], root.children[pattern[0]])\n",
    "    else:\n",
    "        return False\n",
    "\n",
    "    \n",
    "def find_pattern_trie(text, pattern):\n",
    "    trie = build_trie(text)\n",
    "    root = trie.root\n",
    "    return find_pattern_trie_(pattern, root)\n",
    "    \n",
    "    "
   ]
  },
  {
   "cell_type": "markdown",
   "metadata": {},
   "source": [
    "### Suffix tree (slow_find)"
   ]
  },
  {
   "cell_type": "code",
   "execution_count": 2,
   "metadata": {},
   "outputs": [],
   "source": [
    "class Node:\n",
    "    def __init__(self, start, end, depth, parent):\n",
    "        self.start = start\n",
    "        self.end = end\n",
    "        self.children = dict()\n",
    "        self.parent = parent\n",
    "        self.depth = depth\n",
    "\n",
    "    # st - indeks startowy w text, w którym label zaczyna się w text\n",
    "    # idx - indeks w label w którym należy rozbić Node\n",
    "    def break_path(self, label, st, idx, text):\n",
    "        child = self.children[label[0]]\n",
    "        prev_end = child.end\n",
    "        child.end = child.start + idx\n",
    "        node_prev = Node(child.end, prev_end, child.depth, child)\n",
    "        child.depth = st - child.start\n",
    "        \n",
    "        if child.children:\n",
    "            node_prev.children = child.children\n",
    "            child.children = dict()\n",
    "        \n",
    "        child.children[text[node_prev.start]] = node_prev\n",
    "        return child\n",
    "\n",
    "    # label = to co wstawiam; text to cały tekst\n",
    "    def slow_find(self, text, label):\n",
    "        \n",
    "        if len(label)==0 or label[0] not in self.children.keys():\n",
    "            return self\n",
    "\n",
    "        child = self.children[label[0]]\n",
    "        j = 0\n",
    "        for i in range(child.start, child.end):\n",
    "            if text[i]==label[j]:\n",
    "                j +=1\n",
    "            else:\n",
    "                return self.break_path(label, i, j, text)\n",
    "\n",
    "        return child.slow_find(text, label[j:])\n",
    "\n",
    "\n",
    "def graft(node, text, idx):\n",
    "\n",
    "    start = idx + node.depth\n",
    "    end = start + len(text[idx:]) - node.depth\n",
    "    depth = node.depth + (end-start)\n",
    "    child = Node(start, end, depth, node)\n",
    "    node.children[text[start]] = child\n",
    "    return child\n",
    "\n",
    "\n",
    "def traverse_suffix_tree(root, depth):\n",
    "    print(\" Level: \", depth, \"    Children: \", root.children.keys())\n",
    "    for key in root.children.keys():\n",
    "        print(key, end=\"\")\n",
    "        traverse_suffix_tree(root.children[key], depth+1)\n",
    "\n",
    "        \n",
    "def build_suffix_tree(text):\n",
    "    root = Node(0,0,0, None)\n",
    "    graft(root, text, 0)\n",
    "\n",
    "    for i in range(1, len(text)):\n",
    "        head = root.slow_find(text, text[i:])\n",
    "        graft(head, text, i)\n",
    "\n",
    "    return root\n",
    "\n",
    "\n",
    "def find_pattern(text, pattern):\n",
    "    length = len(pattern)\n",
    "    root = build_suffix_tree(text)\n",
    "\n",
    "    node = root\n",
    "    i = 0\n",
    "    while i<length and pattern[i] in node.children.keys():\n",
    "        node = node.children[pattern[i]]\n",
    "        for j in range(node.start, node.end):\n",
    "            if pattern[i] == text[j]:\n",
    "                i += 1\n",
    "            else:\n",
    "                return False\n",
    "\n",
    "            if i == length:\n",
    "                return True\n",
    "\n",
    "    return False\n",
    "        \n",
    "    \n",
    "    "
   ]
  },
  {
   "cell_type": "markdown",
   "metadata": {},
   "source": [
    "### Sprawdzenie poprawności działania trie"
   ]
  },
  {
   "cell_type": "code",
   "execution_count": 3,
   "metadata": {},
   "outputs": [
    {
     "name": "stdout",
     "output_type": "stream",
     "text": [
      "True\n",
      "True\n",
      "True\n",
      "True\n",
      "True\n",
      "True\n",
      "True\n",
      "False\n",
      "False\n",
      "False\n"
     ]
    }
   ],
   "source": [
    "print(find_pattern_trie(\"aaabc\", \"ab\"))\n",
    "print(find_pattern_trie(\"aaabc\", \"abc\"))\n",
    "print(find_pattern_trie(\"aaabc\", \"ab\"))\n",
    "print(find_pattern_trie(\"aaabc\", \"aab\"))\n",
    "print(find_pattern_trie(\"aaabc\", \"aaab\"))\n",
    "print(find_pattern_trie(\"aaabc\", \"aabc\"))\n",
    "print(find_pattern_trie(\"aaabc\", \"aaabc\"))\n",
    "print(find_pattern_trie(\"aaabc\", \"kaabc\"))\n",
    "print(find_pattern_trie(\"aaabc\", \"aabbc\"))\n",
    "print(find_pattern_trie(\"aaabc\", \"aabcc\"))"
   ]
  },
  {
   "cell_type": "code",
   "execution_count": 4,
   "metadata": {},
   "outputs": [
    {
     "name": "stdout",
     "output_type": "stream",
     "text": [
      "True\n",
      "True\n",
      "False\n"
     ]
    }
   ],
   "source": [
    "f = open('1997_714_head.txt', 'r')\n",
    "text5 = f.read()\n",
    "text5 +=\"$\"\n",
    "print(find_pattern_trie(text5, \"Art\"))\n",
    "print(find_pattern_trie(text5, \"Nr\"))\n",
    "print(find_pattern_trie(text5, \"numer\"))"
   ]
  },
  {
   "cell_type": "markdown",
   "metadata": {},
   "source": [
    "### Sprawdzenie poprawności działania suffix tree"
   ]
  },
  {
   "cell_type": "code",
   "execution_count": 5,
   "metadata": {},
   "outputs": [
    {
     "name": "stdout",
     "output_type": "stream",
     "text": [
      "True\n",
      "True\n",
      "True\n",
      "True\n",
      "True\n",
      "True\n",
      "True\n",
      "False\n",
      "False\n",
      "False\n"
     ]
    }
   ],
   "source": [
    "print(find_pattern(\"aaabc\", \"ab\"))\n",
    "print(find_pattern(\"aaabc\", \"abc\"))\n",
    "print(find_pattern(\"aaabc\", \"ab\"))\n",
    "print(find_pattern(\"aaabc\", \"aab\"))\n",
    "print(find_pattern(\"aaabc\", \"aaab\"))\n",
    "print(find_pattern(\"aaabc\", \"aabc\"))\n",
    "print(find_pattern(\"aaabc\", \"aaabc\"))\n",
    "print(find_pattern(\"aaabc\", \"kaabc\"))\n",
    "print(find_pattern(\"aaabc\", \"aabbc\"))\n",
    "print(find_pattern(\"aaabc\", \"aabcc\"))"
   ]
  },
  {
   "cell_type": "code",
   "execution_count": 6,
   "metadata": {},
   "outputs": [
    {
     "name": "stdout",
     "output_type": "stream",
     "text": [
      "True\n",
      "True\n",
      "False\n"
     ]
    }
   ],
   "source": [
    "print(find_pattern(text5, \"Art\"))\n",
    "print(find_pattern(text5, \"Nr\"))\n",
    "print(find_pattern(text5, \"numer\"))"
   ]
  },
  {
   "cell_type": "markdown",
   "metadata": {},
   "source": [
    "# Testy - porównanie czasu tworzenia struktur"
   ]
  },
  {
   "cell_type": "code",
   "execution_count": 7,
   "metadata": {},
   "outputs": [],
   "source": [
    "import time"
   ]
  },
  {
   "cell_type": "code",
   "execution_count": 8,
   "metadata": {},
   "outputs": [
    {
     "name": "stdout",
     "output_type": "stream",
     "text": [
      "Czas tworzenia trie:  5.1975250244140625e-05\n",
      "Czas tworzenia suffix tree:  5.1975250244140625e-05\n"
     ]
    }
   ],
   "source": [
    "text1 = \"bbbd\"\n",
    "\n",
    "start = time.time()\n",
    "build_trie(text1)\n",
    "end = time.time()\n",
    "print(\"Czas tworzenia trie: \", end - start)\n",
    "\n",
    "start = time.time()\n",
    "build_suffix_tree(text1)\n",
    "end = time.time()\n",
    "print(\"Czas tworzenia suffix tree: \", end - start)"
   ]
  },
  {
   "cell_type": "code",
   "execution_count": 9,
   "metadata": {},
   "outputs": [
    {
     "name": "stdout",
     "output_type": "stream",
     "text": [
      "Czas tworzenia trie:  0.0351557731628418\n",
      "Czas tworzenia suffix tree:  0.009258270263671875\n"
     ]
    }
   ],
   "source": [
    "text2 = \"bbbbbbbbbbbbbbbbbbbbbbbbbbbbbbbbbbbbbbbbbbbbbbbb\"*10+\"d\"\n",
    "\n",
    "start = time.time()\n",
    "build_trie(text2)\n",
    "end = time.time()\n",
    "print(\"Czas tworzenia trie: \", end - start)\n",
    "\n",
    "start = time.time()\n",
    "build_suffix_tree(text2)\n",
    "end = time.time()\n",
    "print(\"Czas tworzenia suffix tree: \", end - start)"
   ]
  },
  {
   "cell_type": "code",
   "execution_count": 10,
   "metadata": {},
   "outputs": [
    {
     "name": "stdout",
     "output_type": "stream",
     "text": [
      "Czas tworzenia trie: - (przekroczenie rozmiaru stosu)\n",
      "Czas tworzenia suffix tree:  0.5113461017608643\n"
     ]
    }
   ],
   "source": [
    "text3 = \"bbbdcccccccccaaaaaacacccccccccccccccababababababababababab\"*100 + \"k\"\n",
    "\n",
    "start = time.time()\n",
    "#build_trie(text3)\n",
    "end = time.time()\n",
    "print(\"Czas tworzenia trie: - (przekroczenie rozmiaru stosu)\", )\n",
    "\n",
    "start = time.time()\n",
    "build_suffix_tree(text3)\n",
    "end = time.time()\n",
    "print(\"Czas tworzenia suffix tree: \", end - start)"
   ]
  },
  {
   "cell_type": "code",
   "execution_count": 11,
   "metadata": {},
   "outputs": [
    {
     "name": "stdout",
     "output_type": "stream",
     "text": [
      "Czas tworzenia trie:  5.163111209869385\n",
      "Czas tworzenia suffix tree:  0.01050877571105957\n"
     ]
    }
   ],
   "source": [
    "f = open('1997_714_head.txt', 'r')\n",
    "text5 = f.read()\n",
    "text5 +=\"$\"\n",
    "\n",
    "start = time.time()\n",
    "build_trie(text5)\n",
    "end = time.time()\n",
    "print(\"Czas tworzenia trie: \", end - start)\n",
    "\n",
    "start = time.time()\n",
    "build_suffix_tree(text5)\n",
    "end = time.time()\n",
    "print(\"Czas tworzenia suffix tree: \", end - start)"
   ]
  }
 ],
 "metadata": {
  "kernelspec": {
   "display_name": "Python 3",
   "language": "python",
   "name": "python3"
  },
  "language_info": {
   "codemirror_mode": {
    "name": "ipython",
    "version": 3
   },
   "file_extension": ".py",
   "mimetype": "text/x-python",
   "name": "python",
   "nbconvert_exporter": "python",
   "pygments_lexer": "ipython3",
   "version": "3.8.3"
  }
 },
 "nbformat": 4,
 "nbformat_minor": 4
}
